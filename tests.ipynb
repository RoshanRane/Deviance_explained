{
 "cells": [
  {
   "cell_type": "code",
   "execution_count": 1,
   "id": "3312f606-4f51-47e0-94d0-002f779e2c15",
   "metadata": {},
   "outputs": [],
   "source": [
    "%matplotlib inline\n",
    "%load_ext autoreload\n",
    "%autoreload 2"
   ]
  },
  {
   "cell_type": "code",
   "execution_count": 2,
   "id": "c4645178-206b-4e93-b5ec-d4368335983f",
   "metadata": {},
   "outputs": [],
   "source": [
    "# standard python packages\n",
    "import os, sys\n",
    "from glob import glob\n",
    "import numpy as np\n",
    "import pandas as pd\n",
    "import matplotlib.pyplot as plt \n",
    "import h5py\n",
    "import seaborn as sns\n",
    "from sklearn import datasets\n",
    "    \n",
    "import random\n",
    "import math\n",
    "import json"
   ]
  },
  {
   "cell_type": "code",
   "execution_count": 3,
   "id": "664ec603-1cc4-4bd4-8840-b67173169723",
   "metadata": {},
   "outputs": [],
   "source": [
    "sys.path.insert(0, os.getcwd())\n",
    "from deviance import explained_deviance"
   ]
  },
  {
   "cell_type": "markdown",
   "id": "795970ea-a9c2-4687-bac2-555de116e8e6",
   "metadata": {
    "tags": []
   },
   "source": [
    "### Deviance explained $D^2$"
   ]
  },
  {
   "cell_type": "code",
   "execution_count": 4,
   "id": "8a88ffc2-9f5d-428a-a93d-cd76e54cca1e",
   "metadata": {},
   "outputs": [
    {
     "name": "stdout",
     "output_type": "stream",
     "text": [
      "sanity check. D2 should be 1.0 when y_pred = y_true. We get D2 = 1.00.\n"
     ]
    }
   ],
   "source": [
    "y_true = np.random.randint(0,2,100)\n",
    "print(\"sanity check. D2 should be 1.0 when y_pred = y_true. We get D2 = {:.2f}.\".format(\n",
    "    explained_deviance(y_true, y_pred_probas=y_true)))"
   ]
  },
  {
   "cell_type": "markdown",
   "id": "97f06826-a421-4310-b5d2-5369c52d33cb",
   "metadata": {},
   "source": [
    "### Extensively test all edge cases: \n",
    "1. when predictions are perfect \n",
    "2. when predictions are exactly opposite"
   ]
  },
  {
   "cell_type": "code",
   "execution_count": 5,
   "id": "6b923fbd-a05b-4807-83cb-65530a812ff9",
   "metadata": {},
   "outputs": [
    {
     "name": "stdout",
     "output_type": "stream",
     "text": [
      "------------------------------ \n",
      "classes n=2\n",
      "perfect prediction (y_true = y_pred):\n",
      "Probas = 1.000000 \t logits = 1.000000\n",
      "perfectly incorrect prediction (y_true = not(y_pred)):\n",
      "Probas = -30.465134 \t logits = -24.172107\n",
      "y_pred is always average (1/n_classes):\n",
      "Probas = -0.000846 \t logits = -0.000846\n",
      "------------------------------ \n",
      "classes n=3\n",
      "perfect prediction (y_true = y_pred):\n",
      "Probas = 1.000000 \t logits = 1.000000\n",
      "perfectly incorrect prediction (y_true = not(y_pred)):\n",
      "Probas = -23.930318 \t logits = -18.944254\n",
      "y_pred is always average (1/n_classes):\n",
      "Probas = -0.000636 \t logits = -0.000636\n",
      "------------------------------ \n",
      "classes n=4\n",
      "perfect prediction (y_true = y_pred):\n",
      "Probas = 1.000000 \t logits = 1.000000\n",
      "perfectly incorrect prediction (y_true = not(y_pred)):\n",
      "Probas = -20.476532 \t logits = -16.181226\n",
      "y_pred is always average (1/n_classes):\n",
      "Probas = -0.000763 \t logits = -0.000763\n",
      "------------------------------ \n",
      "classes n=5\n",
      "perfect prediction (y_true = y_pred):\n",
      "Probas = 1.000000 \t logits = 1.000000\n",
      "perfectly incorrect prediction (y_true = not(y_pred)):\n",
      "Probas = -18.321445 \t logits = -14.457156\n",
      "y_pred is always average (1/n_classes):\n",
      "Probas = -0.002334 \t logits = -0.002334\n",
      "------------------------------ \n",
      "classes n=6\n",
      "perfect prediction (y_true = y_pred):\n",
      "Probas = 1.000000 \t logits = 1.000000\n",
      "perfectly incorrect prediction (y_true = not(y_pred)):\n",
      "Probas = -16.763952 \t logits = -13.211161\n",
      "y_pred is always average (1/n_classes):\n",
      "Probas = -0.000819 \t logits = -0.000819\n",
      "------------------------------ \n",
      "classes n=7\n",
      "perfect prediction (y_true = y_pred):\n",
      "Probas = 1.000000 \t logits = 1.000000\n",
      "perfectly incorrect prediction (y_true = not(y_pred)):\n",
      "Probas = -15.631525 \t logits = -12.305220\n",
      "y_pred is always average (1/n_classes):\n",
      "Probas = -0.001318 \t logits = -0.001318\n",
      "------------------------------ \n",
      "classes n=8\n",
      "perfect prediction (y_true = y_pred):\n",
      "Probas = 1.000000 \t logits = 1.000000\n",
      "perfectly incorrect prediction (y_true = not(y_pred)):\n",
      "Probas = -14.733996 \t logits = -11.587197\n",
      "y_pred is always average (1/n_classes):\n",
      "Probas = -0.000937 \t logits = -0.000937\n",
      "------------------------------ \n",
      "classes n=9\n",
      "perfect prediction (y_true = y_pred):\n",
      "Probas = 1.000000 \t logits = 1.000000\n",
      "perfectly incorrect prediction (y_true = not(y_pred)):\n",
      "Probas = -14.012371 \t logits = -11.009897\n",
      "y_pred is always average (1/n_classes):\n",
      "Probas = -0.000825 \t logits = -0.000825\n"
     ]
    }
   ],
   "source": [
    "from sklearn.preprocessing import OneHotEncoder\n",
    "\n",
    "for n_classes in range(2,10):\n",
    "    print('-'*30, f\"\\nclasses n={n_classes}\" )\n",
    "    y_true = np.random.randint(0,n_classes+1,1000)\n",
    "    print(f\"perfect prediction (y_true = y_pred):\")\n",
    "    y_pred_probas = OneHotEncoder().fit(y_true.reshape(-1,1)).transform(y_true.reshape(-1,1)).toarray()\n",
    "    d2 = explained_deviance(y_true, y_pred_probas=y_pred_probas)\n",
    "    d2_logits = explained_deviance(y_true, y_pred_logits=y_pred_probas*1000)\n",
    "    print(f\"Probas = {d2:.6f} \\t logits = {d2_logits:.6f}\")\n",
    "    print(f\"perfectly incorrect prediction (y_true = not(y_pred)):\")\n",
    "    y_pred_probas = np.roll(y_pred_probas, 1, -1)\n",
    "    d2 = explained_deviance(y_true, y_pred_probas=y_pred_probas)\n",
    "    d2_logits = explained_deviance(y_true, y_pred_logits=y_pred_probas*1000)\n",
    "    print(f\"Probas = {d2:.6f} \\t logits = {d2_logits:.6f}\")\n",
    "    print(f\"y_pred is always average (1/n_classes):\")\n",
    "    y_pred_probas = np.full_like(y_pred_probas, fill_value=1/n_classes)\n",
    "    d2 = explained_deviance(y_true, y_pred_probas=y_pred_probas)\n",
    "    d2_logits = explained_deviance(y_true, y_pred_logits=y_pred_probas*1000)\n",
    "    print(f\"Probas = {d2:.6f} \\t logits = {d2_logits:.6f}\")\n"
   ]
  },
  {
   "cell_type": "markdown",
   "id": "37dc88a0-d5c2-4516-b5e5-b4e0281b0833",
   "metadata": {},
   "source": [
    "### Synthetic data: how does the probability value effect the D2?\n",
    "\n"
   ]
  },
  {
   "cell_type": "code",
   "execution_count": 6,
   "id": "698b2402-bd63-4446-b29e-327efaaf42b6",
   "metadata": {},
   "outputs": [
    {
     "name": "stderr",
     "output_type": "stream",
     "text": [
      "/ritter/roshan/installations/anaconda3/lib/python3.7/site-packages/seaborn/_decorators.py:43: FutureWarning: Pass the following variables as keyword args: x, y. From version 0.12, the only valid positional argument will be `data`, and passing other arguments without an explicit keyword will result in an error or misinterpretation.\n",
      "  FutureWarning\n"
     ]
    },
    {
     "data": {
      "image/png": "[encoded data removed]",
      "text/plain": [
       "<Figure size 432x288 with 1 Axes>"
      ]
     },
     "metadata": {
      "needs_background": "light"
     },
     "output_type": "display_data"
    }
   ],
   "source": [
    "from sklearn.metrics import balanced_accuracy_score, accuracy_score\n",
    "import time\n",
    "\n",
    "# create binary labels with increasing correlation between y_true and y_pred_probas\n",
    "n_classes = 2\n",
    "for proba_noise_mul in np.arange(1, 10, 0.5):\n",
    "    proba_noise = 1/(proba_noise_mul)\n",
    "    accs = []\n",
    "    d2s = []\n",
    "    for corr in np.arange(0.01, 1.01, 0.05):\n",
    "        y_true = np.random.randint(0,2,1000)\n",
    "        mask_valreverse = np.random.choice([True, False], size=y_true.shape, p=[1-corr, corr])\n",
    "        y_pred = y_true.copy()\n",
    "\n",
    "        # reverse values of some y proportional to the corr\n",
    "        y_pred[mask_valreverse] =  np.logical_not(y_true[mask_valreverse].astype(bool)).astype(int)\n",
    "        acc = balanced_accuracy_score(y_true, y_pred)\n",
    "        accs.extend([acc])\n",
    "        # convert y_pred to y_pred_probas by adding random noise\n",
    "        y_pred_probas = y_pred.copy().astype(float)\n",
    "        # print(y_pred, y_pred_logits[~y_pred.astype(bool)], len(y_pred_logits[~y_pred.astype(bool)]))\n",
    "        y_pred_probas[y_pred.astype(bool)] -= np.random.sample(y_pred[y_pred.astype(bool)].shape)*proba_noise\n",
    "        y_pred_probas[~y_pred.astype(bool)] += np.random.sample(y_pred[~y_pred.astype(bool)].shape)*proba_noise\n",
    "        # plt.hist(y_pred_probas)\n",
    "        # plt.show()\n",
    "        # print(f\"The y_pred_logits values range from [{y_pred_probas.min():.2f},{y_pred_probas.max():.2f}]\")\n",
    "        # print(((y_pred_probas>0.5).astype(int) == y_pred).sum())\n",
    "        d2 = explained_deviance(y_true, y_pred_logits=y_pred_probas)\n",
    "        d2s.extend([d2])\n",
    "        # print(\"Accuracy (bal) = {:.2f} % \\t D2 explained = {:.2f} %\".format(acc*100, d2*100))\n",
    "    g = sns.lineplot(x=accs, y=d2s, \n",
    "                     hue=proba_noise*100, palette=\"cool\", hue_norm=(0,100),\n",
    "                     legend='brief')\n",
    "    # print(f\"The D2 values range from [{np.array(d2s).min():.2f},{np.array(d2s).max():.2f}] for proba_noise={proba_noise:.2f}\")\n",
    "\n",
    "sns.lineplot(np.arange(0,1.1,0.1), 11*[0], color='k', ls='--')\n",
    "g.set(title='How does D2 scale with Accuracy with\\n different % of noise in predicted probas?', xlabel='Accuracy', ylabel='explained_Deviance')\n",
    "plt.legend(title='% noise in \\npredicted probas')\n",
    "plt.show()"
   ]
  },
  {
   "cell_type": "markdown",
   "id": "69506f5a-7f2c-4397-ab72-81763b6f2bb4",
   "metadata": {},
   "source": [
    "### Real data: Compare our results against Statsmodel's pseudo-r-squared\n",
    "Ground truth evaluation on some real world data"
   ]
  },
  {
   "cell_type": "code",
   "execution_count": 7,
   "id": "9a2877a2-ffe0-4659-a4d3-5fb9c1cbf96b",
   "metadata": {},
   "outputs": [],
   "source": [
    "import statsmodels.api as sm"
   ]
  },
  {
   "cell_type": "code",
   "execution_count": 8,
   "id": "1c85f987-714a-4468-8031-9b6dee232eb3",
   "metadata": {},
   "outputs": [
    {
     "name": "stdout",
     "output_type": "stream",
     "text": [
      "--------------------------------------------------\n",
      "Test data = testdata1.csv\n"
     ]
    },
    {
     "data": {
      "image/png": "[encoded data removed]",
      "text/plain": [
       "<Figure size 432x288 with 1 Axes>"
      ]
     },
     "metadata": {
      "needs_background": "light"
     },
     "output_type": "display_data"
    },
    {
     "name": "stdout",
     "output_type": "stream",
     "text": [
      "Optimization terminated successfully.\n",
      "         Current function value: 0.792396\n",
      "         Iterations 7\n",
      "(runtime:: 0.38226)\n",
      "MNLogit Accuracy (bal) = 33.33 % \t (chance at 100.0%)\n",
      "MNLogit D2 explained  (sm)  = 0.005475 \t\t\t\t llf=-1584.7924994969253,  llnull=-1593.516901467241\n",
      "MNLogit D2 explained (ours) = 0.005475  (runtime:: 0.09104) \t llf=-1584.792499496925,  llnull=-1593.5169013930033\n",
      "--------------------------------------------------\n",
      "Test data = testdata0.csv\n"
     ]
    },
    {
     "data": {
      "image/png": "[encoded data removed]",
      "text/plain": [
       "<Figure size 432x288 with 1 Axes>"
      ]
     },
     "metadata": {
      "needs_background": "light"
     },
     "output_type": "display_data"
    },
    {
     "name": "stdout",
     "output_type": "stream",
     "text": [
      "Optimization terminated successfully.\n",
      "         Current function value: 1.641724\n",
      "         Iterations 6\n",
      "(runtime:: 1.63405)\n",
      "MNLogit Accuracy (bal) = 18.22 % \t (chance at 100.0%)\n",
      "MNLogit D2 explained  (sm)  = 0.012173 \t\t\t\t llf=-13133.790432887894,  llnull=-13295.64026258147\n",
      "MNLogit D2 explained (ours) = 0.012173  (runtime:: 0.24697) \t llf=-13133.790432887896,  llnull=-13295.640262109953\n"
     ]
    }
   ],
   "source": [
    "for testdata in glob('test*.csv'):\n",
    "    print(f\"{'-'*50}\\nTest data = {testdata}\")\n",
    "    testdata = pd.read_csv(testdata).set_index('ID')\n",
    "\n",
    "    X = testdata.filter(like='Input-').values\n",
    "    y_true = testdata['Output'].values.astype(int)\n",
    "    y_pred_probas = testdata.filter(like='Pred-').values\n",
    "\n",
    "    pd.Series(y_true).value_counts().sort_index().plot.bar(title='Output label distribution')\n",
    "    plt.show()\n",
    "\n",
    "    n_classes = y_pred_probas.shape[-1]\n",
    "    y_pred_DL_probas = np.argmax(y_pred_probas, -1)\n",
    "\n",
    "    # deviance score after fitting a logit model from statsmodel\n",
    "    # if n_classes>2:\n",
    "    #     y_pred = OneHotEncoder(sparse=False).fit_transform(y_pred.reshape(-1,1))\n",
    "    # else:\n",
    "    #     logit = sm.Logit\n",
    "\n",
    "    X = sm.add_constant(X, prepend=False)\n",
    "    start = time.process_time()\n",
    "    d2_glm = sm.MNLogit(y_true, X).fit() \n",
    "    print(\"(runtime:: {:.5f})\".format(time.process_time() - start))\n",
    "    # d2_glm = sm.GLM(y_true, X, family=sm.families.Binomial()).fit() \n",
    "    # display(d2_glm.summary())\n",
    "\n",
    "    y_pred_glm_probas = d2_glm.predict(X)\n",
    "    y_pred_glm = np.argmax(y_pred_glm_probas, -1)\n",
    "\n",
    "    # ground truth as accuracy \n",
    "    print(\"MNLogit Accuracy (bal) = {:.2f} % \\t (chance at {:.1f}%)\".format(\n",
    "        balanced_accuracy_score(y_true, y_pred_glm)*100, \n",
    "        100/n_classes))\n",
    "\n",
    "    print(\"MNLogit D2 explained  (sm)  = {:.6f} \\t\\t\\t\\t llf={},  llnull={}\".format(\n",
    "        d2_glm.prsquared, d2_glm.llf, d2_glm.llnull))\n",
    "    # our deviance score\n",
    "    start = time.process_time()\n",
    "    d2, lls  = explained_deviance(y_true, y_pred_probas=y_pred_glm_probas, returnloglikes=True)\n",
    "    print(\"MNLogit D2 explained (ours) = {:.6f}  (runtime:: {:.5f}) \\t llf={},  llnull={}\".format(\n",
    "        d2, time.process_time()-start, lls['loglike_model'], lls['loglike_null']))"
   ]
  },
  {
   "cell_type": "code",
   "execution_count": null,
   "id": "5cbef2fe-19bf-4ef2-a580-cb138bbc2f9d",
   "metadata": {},
   "outputs": [],
   "source": []
  }
 ],
 "metadata": {
  "kernelspec": {
   "display_name": "Python 3 (ipykernel)",
   "language": "python",
   "name": "python3"
  },
  "language_info": {
   "codemirror_mode": {
    "name": "ipython",
    "version": 3
   },
   "file_extension": ".py",
   "mimetype": "text/x-python",
   "name": "python",
   "nbconvert_exporter": "python",
   "pygments_lexer": "ipython3",
   "version": "3.7.9"
  }
 },
 "nbformat": 4,
 "nbformat_minor": 5
}
