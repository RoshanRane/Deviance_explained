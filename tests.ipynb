{
 "cells": [
  {
   "cell_type": "code",
   "execution_count": 1,
   "id": "3312f606-4f51-47e0-94d0-002f779e2c15",
   "metadata": {},
   "outputs": [],
   "source": [
    "%matplotlib inline\n",
    "%load_ext autoreload\n",
    "%autoreload 2"
   ]
  },
  {
   "cell_type": "code",
   "execution_count": 7,
   "id": "c4645178-206b-4e93-b5ec-d4368335983f",
   "metadata": {},
   "outputs": [],
   "source": [
    "# standard python packages\n",
    "import os, sys\n",
    "from glob import glob\n",
    "import numpy as np\n",
    "import pandas as pd\n",
    "import matplotlib.pyplot as plt \n",
    "import h5py\n",
    "import seaborn as sns\n",
    "from sklearn import datasets\n",
    "    \n",
    "import random\n",
    "import math\n",
    "import json"
   ]
  },
  {
   "cell_type": "code",
   "execution_count": 8,
   "id": "664ec603-1cc4-4bd4-8840-b67173169723",
   "metadata": {},
   "outputs": [],
   "source": [
    "sys.path.insert(0, os.getcwd())\n",
    "from deviance import explained_deviance"
   ]
  },
  {
   "cell_type": "markdown",
   "id": "795970ea-a9c2-4687-bac2-555de116e8e6",
   "metadata": {
    "tags": []
   },
   "source": [
    "### Deviance explained $D^2$"
   ]
  },
  {
   "cell_type": "code",
   "execution_count": 9,
   "id": "8a88ffc2-9f5d-428a-a93d-cd76e54cca1e",
   "metadata": {},
   "outputs": [
    {
     "name": "stdout",
     "output_type": "stream",
     "text": [
      "sanity check. D2 should be 1.0 when y_pred = y_true. We get D2 = 1.00.\n"
     ]
    }
   ],
   "source": [
    "y_true = np.random.randint(0,2,100)\n",
    "print(\"sanity check. D2 should be 1.0 when y_pred = y_true. We get D2 = {:.2f}.\".format(\n",
    "    explained_deviance(y_true, y_pred_probas=y_true)))"
   ]
  },
  {
   "cell_type": "markdown",
   "id": "97f06826-a421-4310-b5d2-5369c52d33cb",
   "metadata": {},
   "source": [
    "### Extensively test all edge cases: \n",
    "1. when predictions are perfect \n",
    "2. when predictions are exactly opposite"
   ]
  },
  {
   "cell_type": "code",
   "execution_count": 10,
   "id": "6b923fbd-a05b-4807-83cb-65530a812ff9",
   "metadata": {},
   "outputs": [
    {
     "name": "stdout",
     "output_type": "stream",
     "text": [
      "------------------------------ \n",
      "classes n=2\n",
      "perfect prediction (y_true = y_pred):\n",
      "Probas = 1.000000 \t logits = 1.000000\n",
      "perfectly incorrect prediction (y_true = not(y_pred)):\n",
      "Probas = -30.461159 \t logits = -24.168927\n",
      "y_pred is always average (1/n_classes)\n",
      "Probas = -0.000719 \t logits = -0.000719\n",
      "------------------------------ \n",
      "classes n=3\n",
      "perfect prediction (y_true = y_pred):\n",
      "Probas = 1.000000 \t logits = 1.000000\n",
      "perfectly incorrect prediction (y_true = not(y_pred)):\n",
      "Probas = -23.924648 \t logits = -18.939718\n",
      "y_pred is always average (1/n_classes)\n",
      "Probas = -0.000409 \t logits = -0.000409\n",
      "------------------------------ \n",
      "classes n=4\n",
      "perfect prediction (y_true = y_pred):\n",
      "Probas = 1.000000 \t logits = 1.000000\n",
      "perfectly incorrect prediction (y_true = not(y_pred)):\n",
      "Probas = -20.478072 \t logits = -16.182458\n",
      "y_pred is always average (1/n_classes)\n",
      "Probas = -0.000835 \t logits = -0.000835\n",
      "------------------------------ \n",
      "classes n=5\n",
      "perfect prediction (y_true = y_pred):\n",
      "Probas = 1.000000 \t logits = 1.000000\n",
      "perfectly incorrect prediction (y_true = not(y_pred)):\n",
      "Probas = -18.304486 \t logits = -14.443589\n",
      "y_pred is always average (1/n_classes)\n",
      "Probas = -0.001454 \t logits = -0.001454\n",
      "------------------------------ \n",
      "classes n=6\n",
      "perfect prediction (y_true = y_pred):\n",
      "Probas = 1.000000 \t logits = 1.000000\n",
      "perfectly incorrect prediction (y_true = not(y_pred)):\n",
      "Probas = -16.767518 \t logits = -13.214014\n",
      "y_pred is always average (1/n_classes)\n",
      "Probas = -0.001020 \t logits = -0.001020\n",
      "------------------------------ \n",
      "classes n=7\n",
      "perfect prediction (y_true = y_pred):\n",
      "Probas = 1.000000 \t logits = 1.000000\n",
      "perfectly incorrect prediction (y_true = not(y_pred)):\n",
      "Probas = -15.641603 \t logits = -12.313282\n",
      "y_pred is always average (1/n_classes)\n",
      "Probas = -0.001924 \t logits = -0.001924\n",
      "------------------------------ \n",
      "classes n=8\n",
      "perfect prediction (y_true = y_pred):\n",
      "Probas = 1.000000 \t logits = 1.000000\n",
      "perfectly incorrect prediction (y_true = not(y_pred)):\n",
      "Probas = -14.746117 \t logits = -11.596894\n",
      "y_pred is always average (1/n_classes)\n",
      "Probas = -0.001708 \t logits = -0.001708\n",
      "------------------------------ \n",
      "classes n=9\n",
      "perfect prediction (y_true = y_pred):\n",
      "Probas = 1.000000 \t logits = 1.000000\n",
      "perfectly incorrect prediction (y_true = not(y_pred)):\n",
      "Probas = -14.017370 \t logits = -11.013896\n",
      "y_pred is always average (1/n_classes)\n",
      "Probas = -0.001158 \t logits = -0.001158\n"
     ]
    }
   ],
   "source": [
    "from sklearn.preprocessing import OneHotEncoder\n",
    "\n",
    "for n_classes in range(2,10):\n",
    "    print('-'*30, f\"\\nclasses n={n_classes}\" )\n",
    "    y_true = np.random.randint(0,n_classes+1,1000)\n",
    "    print(f\"perfect prediction (y_true = y_pred):\")\n",
    "    y_pred_probas = OneHotEncoder().fit(y_true.reshape(-1,1)).transform(y_true.reshape(-1,1)).toarray()\n",
    "    d2 = explained_deviance(y_true, y_pred_probas=y_pred_probas)\n",
    "    d2_logits = explained_deviance(y_true, y_pred_logits=y_pred_probas*1000)\n",
    "    print(f\"Probas = {d2:.6f} \\t logits = {d2_logits:.6f}\")\n",
    "    print(f\"perfectly incorrect prediction (y_true = not(y_pred)):\")\n",
    "    y_pred_probas = np.roll(y_pred_probas, 1, -1)\n",
    "    d2 = explained_deviance(y_true, y_pred_probas=y_pred_probas)\n",
    "    d2_logits = explained_deviance(y_true, y_pred_logits=y_pred_probas*1000)\n",
    "    print(f\"Probas = {d2:.6f} \\t logits = {d2_logits:.6f}\")\n",
    "    print(f\"y_pred is always average (1/n_classes)\")\n",
    "    y_pred_probas = np.full_like(y_pred_probas, fill_value=1/n_classes)\n",
    "    d2 = explained_deviance(y_true, y_pred_probas=y_pred_probas)\n",
    "    d2_logits = explained_deviance(y_true, y_pred_logits=y_pred_probas*1000)\n",
    "    print(f\"Probas = {d2:.6f} \\t logits = {d2_logits:.6f}\")\n"
   ]
  },
  {
   "cell_type": "markdown",
   "id": "37dc88a0-d5c2-4516-b5e5-b4e0281b0833",
   "metadata": {},
   "source": [
    "### Synthetic data: how does the probability value effect the D2?\n",
    "\n"
   ]
  },
  {
   "cell_type": "code",
   "execution_count": 11,
   "id": "698b2402-bd63-4446-b29e-327efaaf42b6",
   "metadata": {},
   "outputs": [
    {
     "name": "stderr",
     "output_type": "stream",
     "text": [
      "/ritter/roshan/installations/anaconda3/lib/python3.7/site-packages/seaborn/_decorators.py:43: FutureWarning: Pass the following variables as keyword args: x, y. From version 0.12, the only valid positional argument will be `data`, and passing other arguments without an explicit keyword will result in an error or misinterpretation.\n",
      "  FutureWarning\n"
     ]
    },
    {
     "data": {
      "image/png": "[encoded data removed]",
      "text/plain": [
       "<Figure size 432x288 with 1 Axes>"
      ]
     },
     "metadata": {
      "needs_background": "light"
     },
     "output_type": "display_data"
    }
   ],
   "source": [
    "from sklearn.metrics import balanced_accuracy_score, accuracy_score\n",
    "import time\n",
    "\n",
    "# create binary labels with increasing correlation between y_true and y_pred_probas\n",
    "n_classes = 2\n",
    "for proba_noise_mul in np.arange(1, 10, 0.5):\n",
    "    proba_noise = 1/(proba_noise_mul)\n",
    "    accs = []\n",
    "    d2s = []\n",
    "    for corr in np.arange(0.01, 1.01, 0.05):\n",
    "        y_true = np.random.randint(0,2,1000)\n",
    "        mask_valreverse = np.random.choice([True, False], size=y_true.shape, p=[1-corr, corr])\n",
    "        y_pred = y_true.copy()\n",
    "\n",
    "        # reverse values of some y proportional to the corr\n",
    "        y_pred[mask_valreverse] =  np.logical_not(y_true[mask_valreverse].astype(bool)).astype(int)\n",
    "        acc = balanced_accuracy_score(y_true, y_pred)\n",
    "        accs.extend([acc])\n",
    "        # convert y_pred to y_pred_probas by adding random noise\n",
    "        y_pred_probas = y_pred.copy().astype(float)\n",
    "        # print(y_pred, y_pred_logits[~y_pred.astype(bool)], len(y_pred_logits[~y_pred.astype(bool)]))\n",
    "        y_pred_probas[y_pred.astype(bool)] -= np.random.sample(y_pred[y_pred.astype(bool)].shape)*proba_noise\n",
    "        y_pred_probas[~y_pred.astype(bool)] += np.random.sample(y_pred[~y_pred.astype(bool)].shape)*proba_noise\n",
    "        # plt.hist(y_pred_probas)\n",
    "        # plt.show()\n",
    "        # print(f\"The y_pred_logits values range from [{y_pred_probas.min():.2f},{y_pred_probas.max():.2f}]\")\n",
    "        # print(((y_pred_probas>0.5).astype(int) == y_pred).sum())\n",
    "        d2 = explained_deviance(y_true, y_pred_logits=y_pred_probas)\n",
    "        d2s.extend([d2])\n",
    "        # print(\"Accuracy (bal) = {:.2f} % \\t D2 explained = {:.2f} %\".format(acc*100, d2*100))\n",
    "    g = sns.lineplot(x=accs, y=d2s, \n",
    "                     hue=proba_noise*100, palette=\"cool\", hue_norm=(0,100),\n",
    "                     legend='brief')\n",
    "    # print(f\"The D2 values range from [{np.array(d2s).min():.2f},{np.array(d2s).max():.2f}] for proba_noise={proba_noise:.2f}\")\n",
    "\n",
    "sns.lineplot(np.arange(0,1.1,0.1), 11*[0], color='k', ls='--')\n",
    "g.set(xlabel='Accuracy', ylabel='explained_Deviance')\n",
    "plt.show()"
   ]
  },
  {
   "cell_type": "markdown",
   "id": "5f8a2aa1-02d1-47ab-b4ad-108a6e4df226",
   "metadata": {},
   "source": [
    "### Test against gonzalo's computed scores"
   ]
  },
  {
   "cell_type": "code",
   "execution_count": 13,
   "id": "197659f0-af37-4ddf-9c3a-68e27c214d4e",
   "metadata": {},
   "outputs": [
    {
     "name": "stdout",
     "output_type": "stream",
     "text": [
      "--------------------------------------------------\n",
      "Test data : alcfreq_epoch0\n",
      "Accuracy (bal) = 16.44 % \t (chance at 16.7%)\n",
      "D2 explained (ours) = -0.106029 \t llf=-175.89,  llnull=-159.03\n",
      "D2 explained (old) = -6.455936 \t\t llf=2671.85,  llnull=358.35\n",
      "--------------------------------------------------\n",
      "Test data : alcfreq_epochlast\n",
      "Accuracy (bal) = 20.27 % \t (chance at 16.7%)\n",
      "D2 explained (ours) = -0.083695 \t llf=-180.15,  llnull=-166.23\n",
      "D2 explained (old) = -7.565448 \t\t llf=3069.44,  llnull=358.35\n",
      "--------------------------------------------------\n",
      "Test data : rightear_epoch0\n",
      "Accuracy (bal) = 30.91 % \t (chance at 33.3%)\n",
      "D2 explained (ours) = -0.283860 \t llf=-106.55,  llnull=-82.99\n",
      "D2 explained (old) = -0.300531 \t\t llf=2.86,  llnull=2.20\n",
      "--------------------------------------------------\n",
      "Test data : rightear_epochlast\n",
      "Accuracy (bal) = 31.63 % \t (chance at 33.3%)\n",
      "D2 explained (ours) = -0.380722 \t llf=-104.26,  llnull=-75.51\n",
      "D2 explained (old) = -1.660220 \t\t llf=5.85,  llnull=2.20\n",
      "--------------------------------------------------\n",
      "Test data : sex_epoch0\n",
      "Accuracy (bal) = 99.06 % \t (chance at 50.0%)\n",
      "D2 explained (ours) = 0.886626 \t llf=-7.84,  llnull=-69.13\n",
      "D2 explained (old) = 0.000000 \t\t llf=0.00,  llnull=138.63\n"
     ]
    }
   ],
   "source": [
    "import statsmodels.api as sm\n",
    "from sklearn.metrics import balanced_accuracy_score\n",
    "from sklearn.preprocessing import OneHotEncoder\n",
    "from scipy.special import softmax, expit\n",
    "\n",
    "\n",
    "with open(\"test_data_deviance.json\", 'r') as f:\n",
    "    test_data = json.load(f)\n",
    "  \n",
    "    for test_data_k, test_data_v in test_data.items():\n",
    "        print(f\"{'-'*50}\\nTest data : {test_data_k}\")\n",
    "        \n",
    "        y_true = test_data_v['y_true']\n",
    "        # parse from str form to a list of y values\n",
    "        y_true = np.array([float(n.strip()) for n in y_true.replace('[','').replace(']','').split(' ')]).astype(int)\n",
    "\n",
    "        y_pred_logits = np.array(test_data_v['y_pred'])\n",
    "         # get the predicted label\n",
    "        if y_pred_logits.ndim > 1: # multiclass\n",
    "            y_pred = np.argmax(y_pred_logits, axis=-1)\n",
    "            n_classes = y_pred_logits.shape[-1]\n",
    "        else: \n",
    "            y_pred = (expit(y_pred_logits)>=0.5).astype(int)\n",
    "            n_classes = 2\n",
    "        # calculate balanced accuracy\n",
    "        assert len(y_true) == len(y_pred)\n",
    "        print(\"Accuracy (bal) = {:.2f} % \\t (chance at {:.1f}%)\".format(balanced_accuracy_score(y_true, y_pred)*100, 100/n_classes))\n",
    "        \n",
    "        # calculate deviance explained\n",
    "        # convert to torch tensor to make it compatible\n",
    "        d2, lls = explained_deviance(y_true, y_pred_logits=y_pred_logits, returnloglikes=True)\n",
    "        print(\"D2 explained (ours) = {:.6f} \\t llf={:.2f},  llnull={:.2f}\".format(d2, lls['loglike_model'], lls['loglike_null']))\n",
    "        print(\"D2 explained (old) = {:.6f} \\t\\t llf={:.2f},  llnull={:.2f}\".format(test_data_v[\"d2_old\"], test_data_v[\"llmodel\"], test_data_v[\"llnull\"]))"
   ]
  },
  {
   "cell_type": "markdown",
   "id": "69506f5a-7f2c-4397-ab72-81763b6f2bb4",
   "metadata": {},
   "source": [
    "### Compare our results against Statsmodel \n",
    "Ground truth evaluation on some real world data"
   ]
  },
  {
   "cell_type": "code",
   "execution_count": 310,
   "id": "1c85f987-714a-4468-8031-9b6dee232eb3",
   "metadata": {},
   "outputs": [
    {
     "data": {
      "text/plain": [
       "0    1330\n",
       "1    2298\n",
       "2    2141\n",
       "3     929\n",
       "4     823\n",
       "5     479\n",
       "dtype: int64"
      ]
     },
     "execution_count": 310,
     "metadata": {},
     "output_type": "execute_result"
    }
   ],
   "source": [
    "testdata = pd.read_csv(\"trialALC.csv\")\n",
    "\n",
    "h_reps = testdata[['Rep_ResNet50DeepRepViz-alcintfreq-run0_X',\n",
    "       'Rep_ResNet50DeepRepViz-alcintfreq-run0_Y',\n",
    "       'Rep_ResNet50DeepRepViz-alcintfreq-run0_Z']].values\n",
    "y_true = testdata['Alc_int_freq'].values.astype(int)\n",
    "y_pred_probas = testdata[['Pred_ResNet50DeepRepViz-alcintfreq-run0_class0',\n",
    "                   'Pred_ResNet50DeepRepViz-alcintfreq-run0_class1',\n",
    "                   'Pred_ResNet50DeepRepViz-alcintfreq-run0_class2',\n",
    "                   'Pred_ResNet50DeepRepViz-alcintfreq-run0_class3',\n",
    "                   'Pred_ResNet50DeepRepViz-alcintfreq-run0_class4',\n",
    "                   'Pred_ResNet50DeepRepViz-alcintfreq-run0_class5']].values\n",
    "\n",
    "# testdata = pd.read_csv(\"trialSRT.csv\")\n",
    "# h_reps = testdata[[\n",
    "#        'Rep_ResNet50DeepRepViz-srtrightearclassification-run2_X',\n",
    "#        'Rep_ResNet50DeepRepViz-srtrightearclassification-run2_Y',\n",
    "#        'Rep_ResNet50DeepRepViz-srtrightearclassification-run2_Z']].values\n",
    "# y_true = testdata['srt_right_ear_classification'].values.astype(int)\n",
    "# y_pred_probas = testdata[\n",
    "#       ['Pred_ResNet50DeepRepViz-srtrightearclassification-run2_class0',\n",
    "#        'Pred_ResNet50DeepRepViz-srtrightearclassification-run2_class1',\n",
    "#        'Pred_ResNet50DeepRepViz-srtrightearclassification-run2_class2',]].values\n",
    "# print(\"y_true values:\")\n",
    "pd.Series(y_true).value_counts().sort_index()"
   ]
  },
  {
   "cell_type": "code",
   "execution_count": 311,
   "id": "40b4664a-2eee-4d48-805b-b76da45eb921",
   "metadata": {},
   "outputs": [
    {
     "name": "stdout",
     "output_type": "stream",
     "text": [
      "Optimization terminated successfully.\n",
      "         Current function value: 1.641724\n",
      "         Iterations 6\n",
      "(runtime:: 1.65429)\n"
     ]
    },
    {
     "data": {
      "text/html": [
       "<table class=\"simpletable\">\n",
       "<caption>MNLogit Regression Results</caption>\n",
       "<tr>\n",
       "  <th>Dep. Variable:</th>           <td>y</td>        <th>  No. Observations:  </th>  <td>  8000</td>  \n",
       "</tr>\n",
       "<tr>\n",
       "  <th>Model:</th>                <td>MNLogit</td>     <th>  Df Residuals:      </th>  <td>  7980</td>  \n",
       "</tr>\n",
       "<tr>\n",
       "  <th>Method:</th>                 <td>MLE</td>       <th>  Df Model:          </th>  <td>    15</td>  \n",
       "</tr>\n",
       "<tr>\n",
       "  <th>Date:</th>            <td>Fri, 02 Dec 2022</td> <th>  Pseudo R-squ.:     </th>  <td>0.01217</td> \n",
       "</tr>\n",
       "<tr>\n",
       "  <th>Time:</th>                <td>11:18:24</td>     <th>  Log-Likelihood:    </th> <td> -13134.</td> \n",
       "</tr>\n",
       "<tr>\n",
       "  <th>converged:</th>             <td>True</td>       <th>  LL-Null:           </th> <td> -13296.</td> \n",
       "</tr>\n",
       "<tr>\n",
       "  <th>Covariance Type:</th>     <td>nonrobust</td>    <th>  LLR p-value:       </th> <td>6.521e-60</td>\n",
       "</tr>\n",
       "</table>\n",
       "<table class=\"simpletable\">\n",
       "<tr>\n",
       "   <th>y=1</th>     <th>coef</th>     <th>std err</th>      <th>z</th>      <th>P>|z|</th>  <th>[0.025</th>    <th>0.975]</th>  \n",
       "</tr>\n",
       "<tr>\n",
       "  <th>x1</th>    <td>    2.3239</td> <td>    0.775</td> <td>    2.999</td> <td> 0.003</td> <td>    0.805</td> <td>    3.843</td>\n",
       "</tr>\n",
       "<tr>\n",
       "  <th>x2</th>    <td>    2.4355</td> <td>    0.827</td> <td>    2.944</td> <td> 0.003</td> <td>    0.814</td> <td>    4.057</td>\n",
       "</tr>\n",
       "<tr>\n",
       "  <th>x3</th>    <td>   -0.5799</td> <td>    0.727</td> <td>   -0.798</td> <td> 0.425</td> <td>   -2.004</td> <td>    0.844</td>\n",
       "</tr>\n",
       "<tr>\n",
       "  <th>const</th> <td>    0.1281</td> <td>    0.105</td> <td>    1.224</td> <td> 0.221</td> <td>   -0.077</td> <td>    0.333</td>\n",
       "</tr>\n",
       "<tr>\n",
       "   <th>y=2</th>     <th>coef</th>     <th>std err</th>      <th>z</th>      <th>P>|z|</th>  <th>[0.025</th>    <th>0.975]</th>  \n",
       "</tr>\n",
       "<tr>\n",
       "  <th>x1</th>    <td>    2.3185</td> <td>    0.762</td> <td>    3.042</td> <td> 0.002</td> <td>    0.825</td> <td>    3.812</td>\n",
       "</tr>\n",
       "<tr>\n",
       "  <th>x2</th>    <td>    2.6999</td> <td>    0.810</td> <td>    3.331</td> <td> 0.001</td> <td>    1.112</td> <td>    4.288</td>\n",
       "</tr>\n",
       "<tr>\n",
       "  <th>x3</th>    <td>   -0.6452</td> <td>    0.715</td> <td>   -0.902</td> <td> 0.367</td> <td>   -2.047</td> <td>    0.757</td>\n",
       "</tr>\n",
       "<tr>\n",
       "  <th>const</th> <td>   -0.1829</td> <td>    0.107</td> <td>   -1.708</td> <td> 0.088</td> <td>   -0.393</td> <td>    0.027</td>\n",
       "</tr>\n",
       "<tr>\n",
       "   <th>y=3</th>     <th>coef</th>     <th>std err</th>      <th>z</th>      <th>P>|z|</th>  <th>[0.025</th>    <th>0.975]</th>  \n",
       "</tr>\n",
       "<tr>\n",
       "  <th>x1</th>    <td>    1.1743</td> <td>    0.883</td> <td>    1.329</td> <td> 0.184</td> <td>   -0.557</td> <td>    2.906</td>\n",
       "</tr>\n",
       "<tr>\n",
       "  <th>x2</th>    <td>    2.0711</td> <td>    0.938</td> <td>    2.209</td> <td> 0.027</td> <td>    0.233</td> <td>    3.909</td>\n",
       "</tr>\n",
       "<tr>\n",
       "  <th>x3</th>    <td>   -1.2683</td> <td>    0.837</td> <td>   -1.515</td> <td> 0.130</td> <td>   -2.909</td> <td>    0.372</td>\n",
       "</tr>\n",
       "<tr>\n",
       "  <th>const</th> <td>   -0.9355</td> <td>    0.131</td> <td>   -7.142</td> <td> 0.000</td> <td>   -1.192</td> <td>   -0.679</td>\n",
       "</tr>\n",
       "<tr>\n",
       "   <th>y=4</th>     <th>coef</th>     <th>std err</th>      <th>z</th>      <th>P>|z|</th>  <th>[0.025</th>    <th>0.975]</th>  \n",
       "</tr>\n",
       "<tr>\n",
       "  <th>x1</th>    <td>    0.1035</td> <td>    0.899</td> <td>    0.115</td> <td> 0.908</td> <td>   -1.659</td> <td>    1.866</td>\n",
       "</tr>\n",
       "<tr>\n",
       "  <th>x2</th>    <td>    1.4715</td> <td>    0.957</td> <td>    1.537</td> <td> 0.124</td> <td>   -0.405</td> <td>    3.348</td>\n",
       "</tr>\n",
       "<tr>\n",
       "  <th>x3</th>    <td>   -1.9787</td> <td>    0.864</td> <td>   -2.290</td> <td> 0.022</td> <td>   -3.672</td> <td>   -0.285</td>\n",
       "</tr>\n",
       "<tr>\n",
       "  <th>const</th> <td>   -0.9073</td> <td>    0.135</td> <td>   -6.725</td> <td> 0.000</td> <td>   -1.172</td> <td>   -0.643</td>\n",
       "</tr>\n",
       "<tr>\n",
       "   <th>y=5</th>     <th>coef</th>     <th>std err</th>      <th>z</th>      <th>P>|z|</th>  <th>[0.025</th>    <th>0.975]</th>  \n",
       "</tr>\n",
       "<tr>\n",
       "  <th>x1</th>    <td>    0.3645</td> <td>    1.139</td> <td>    0.320</td> <td> 0.749</td> <td>   -1.867</td> <td>    2.596</td>\n",
       "</tr>\n",
       "<tr>\n",
       "  <th>x2</th>    <td>    1.6782</td> <td>    1.228</td> <td>    1.367</td> <td> 0.172</td> <td>   -0.728</td> <td>    4.085</td>\n",
       "</tr>\n",
       "<tr>\n",
       "  <th>x3</th>    <td>   -2.7446</td> <td>    1.116</td> <td>   -2.459</td> <td> 0.014</td> <td>   -4.932</td> <td>   -0.557</td>\n",
       "</tr>\n",
       "<tr>\n",
       "  <th>const</th> <td>   -1.0535</td> <td>    0.158</td> <td>   -6.649</td> <td> 0.000</td> <td>   -1.364</td> <td>   -0.743</td>\n",
       "</tr>\n",
       "</table>"
      ],
      "text/plain": [
       "<class 'statsmodels.iolib.summary.Summary'>\n",
       "\"\"\"\n",
       "                          MNLogit Regression Results                          \n",
       "==============================================================================\n",
       "Dep. Variable:                      y   No. Observations:                 8000\n",
       "Model:                        MNLogit   Df Residuals:                     7980\n",
       "Method:                           MLE   Df Model:                           15\n",
       "Date:                Fri, 02 Dec 2022   Pseudo R-squ.:                 0.01217\n",
       "Time:                        11:18:24   Log-Likelihood:                -13134.\n",
       "converged:                       True   LL-Null:                       -13296.\n",
       "Covariance Type:            nonrobust   LLR p-value:                 6.521e-60\n",
       "==============================================================================\n",
       "       y=1       coef    std err          z      P>|z|      [0.025      0.975]\n",
       "------------------------------------------------------------------------------\n",
       "x1             2.3239      0.775      2.999      0.003       0.805       3.843\n",
       "x2             2.4355      0.827      2.944      0.003       0.814       4.057\n",
       "x3            -0.5799      0.727     -0.798      0.425      -2.004       0.844\n",
       "const          0.1281      0.105      1.224      0.221      -0.077       0.333\n",
       "------------------------------------------------------------------------------\n",
       "       y=2       coef    std err          z      P>|z|      [0.025      0.975]\n",
       "------------------------------------------------------------------------------\n",
       "x1             2.3185      0.762      3.042      0.002       0.825       3.812\n",
       "x2             2.6999      0.810      3.331      0.001       1.112       4.288\n",
       "x3            -0.6452      0.715     -0.902      0.367      -2.047       0.757\n",
       "const         -0.1829      0.107     -1.708      0.088      -0.393       0.027\n",
       "------------------------------------------------------------------------------\n",
       "       y=3       coef    std err          z      P>|z|      [0.025      0.975]\n",
       "------------------------------------------------------------------------------\n",
       "x1             1.1743      0.883      1.329      0.184      -0.557       2.906\n",
       "x2             2.0711      0.938      2.209      0.027       0.233       3.909\n",
       "x3            -1.2683      0.837     -1.515      0.130      -2.909       0.372\n",
       "const         -0.9355      0.131     -7.142      0.000      -1.192      -0.679\n",
       "------------------------------------------------------------------------------\n",
       "       y=4       coef    std err          z      P>|z|      [0.025      0.975]\n",
       "------------------------------------------------------------------------------\n",
       "x1             0.1035      0.899      0.115      0.908      -1.659       1.866\n",
       "x2             1.4715      0.957      1.537      0.124      -0.405       3.348\n",
       "x3            -1.9787      0.864     -2.290      0.022      -3.672      -0.285\n",
       "const         -0.9073      0.135     -6.725      0.000      -1.172      -0.643\n",
       "------------------------------------------------------------------------------\n",
       "       y=5       coef    std err          z      P>|z|      [0.025      0.975]\n",
       "------------------------------------------------------------------------------\n",
       "x1             0.3645      1.139      0.320      0.749      -1.867       2.596\n",
       "x2             1.6782      1.228      1.367      0.172      -0.728       4.085\n",
       "x3            -2.7446      1.116     -2.459      0.014      -4.932      -0.557\n",
       "const         -1.0535      0.158     -6.649      0.000      -1.364      -0.743\n",
       "==============================================================================\n",
       "\"\"\""
      ]
     },
     "metadata": {},
     "output_type": "display_data"
    },
    {
     "name": "stdout",
     "output_type": "stream",
     "text": [
      "MNLogit Accuracy (bal) = 18.22 % \t (chance at 16.7%)\n",
      "MNLogit D2 explained  (sm)  = 0.012173 \t\t\t\t llf=-13133.790432887896,  llnull=-13295.64026258147\n",
      "MNLogit D2 explained (ours) = 0.012173  (runtime:: 0.22565) \t llf=-13133.790432887894,  llnull=-13295.640262109953\n"
     ]
    }
   ],
   "source": [
    "n_classes = y_pred_probas.shape[-1]\n",
    "y_pred_DL_probas = np.argmax(y_pred_probas, -1)\n",
    "\n",
    "# deviance score after fitting a logit model from statsmodel\n",
    "# if n_classes>2:\n",
    "#     y_pred = OneHotEncoder(sparse=False).fit_transform(y_pred.reshape(-1,1))\n",
    "# else:\n",
    "#     logit = sm.Logit\n",
    "\n",
    "h_reps = sm.add_constant(h_reps, prepend=False)\n",
    "start = time.process_time()\n",
    "d2_glm = sm.MNLogit(y_true, h_reps).fit() \n",
    "print(\"(runtime:: {:.5f})\".format(time.process_time() - start))\n",
    "# d2_glm = sm.GLM(y_true, h_reps, family=sm.families.Binomial()).fit() \n",
    "display(d2_glm.summary())\n",
    "\n",
    "y_pred_glm_probas = d2_glm.predict(h_reps)\n",
    "y_pred_glm = np.argmax(y_pred_glm_probas, -1)\n",
    "\n",
    "# ground truth as accuracy \n",
    "print(\"MNLogit Accuracy (bal) = {:.2f} % \\t (chance at {:.1f}%)\".format(\n",
    "    balanced_accuracy_score(y_true, y_pred_glm)*100, \n",
    "    100/n_classes))\n",
    "\n",
    "print(\"MNLogit D2 explained  (sm)  = {:.6f} \\t\\t\\t\\t llf={},  llnull={}\".format(\n",
    "    d2_glm.prsquared, d2_glm.llf, d2_glm.llnull))\n",
    "# our deviance score\n",
    "start = time.process_time()\n",
    "d2, lls  = explained_deviance(y_true, y_pred_probas=y_pred_glm_probas, returnloglikes=True)\n",
    "print(\"MNLogit D2 explained (ours) = {:.6f}  (runtime:: {:.5f}) \\t llf={},  llnull={}\".format(\n",
    "    d2, time.process_time()-start, lls['loglike_model'], lls['loglike_null']))"
   ]
  }
 ],
 "metadata": {
  "kernelspec": {
   "display_name": "Python 3 (ipykernel)",
   "language": "python",
   "name": "python3"
  },
  "language_info": {
   "codemirror_mode": {
    "name": "ipython",
    "version": 3
   },
   "file_extension": ".py",
   "mimetype": "text/x-python",
   "name": "python",
   "nbconvert_exporter": "python",
   "pygments_lexer": "ipython3",
   "version": "3.7.9"
  }
 },
 "nbformat": 4,
 "nbformat_minor": 5
}
